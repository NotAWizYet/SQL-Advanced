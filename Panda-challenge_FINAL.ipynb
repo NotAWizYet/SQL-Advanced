{
 "cells": [
  {
   "cell_type": "markdown",
   "metadata": {},
   "source": [
    "### Heroes Of Pymoli Data Analysis\n",
    "* Of the 1163 active players, the vast majority are male (84%). There also exists, a smaller, but notable proportion of female players (14%).\n",
    "\n",
    "* Our peak age demographic falls between 20-24 (44.8%) with secondary groups falling between 15-19 (18.60%) and 25-29 (13.4%).  \n",
    "-----"
   ]
  },
  {
   "cell_type": "markdown",
   "metadata": {},
   "source": [
    "### Note\n",
    "* Instructions have been included for each segment. You do not have to follow them exactly, but they are included to help you think through the steps."
   ]
  },
  {
   "cell_type": "code",
   "execution_count": 36,
   "metadata": {
    "scrolled": true
   },
   "outputs": [
    {
     "data": {
      "text/html": [
       "<div>\n",
       "<style scoped>\n",
       "    .dataframe tbody tr th:only-of-type {\n",
       "        vertical-align: middle;\n",
       "    }\n",
       "\n",
       "    .dataframe tbody tr th {\n",
       "        vertical-align: top;\n",
       "    }\n",
       "\n",
       "    .dataframe thead th {\n",
       "        text-align: right;\n",
       "    }\n",
       "</style>\n",
       "<table border=\"1\" class=\"dataframe\">\n",
       "  <thead>\n",
       "    <tr style=\"text-align: right;\">\n",
       "      <th></th>\n",
       "      <th>Purchase ID</th>\n",
       "      <th>SN</th>\n",
       "      <th>Age</th>\n",
       "      <th>Gender</th>\n",
       "      <th>Item ID</th>\n",
       "      <th>Item Name</th>\n",
       "      <th>Price</th>\n",
       "    </tr>\n",
       "  </thead>\n",
       "  <tbody>\n",
       "    <tr>\n",
       "      <th>0</th>\n",
       "      <td>0</td>\n",
       "      <td>Lisim78</td>\n",
       "      <td>20</td>\n",
       "      <td>Male</td>\n",
       "      <td>108</td>\n",
       "      <td>Extraction, Quickblade Of Trembling Hands</td>\n",
       "      <td>3.53</td>\n",
       "    </tr>\n",
       "    <tr>\n",
       "      <th>1</th>\n",
       "      <td>1</td>\n",
       "      <td>Lisovynya38</td>\n",
       "      <td>40</td>\n",
       "      <td>Male</td>\n",
       "      <td>143</td>\n",
       "      <td>Frenzied Scimitar</td>\n",
       "      <td>1.56</td>\n",
       "    </tr>\n",
       "    <tr>\n",
       "      <th>2</th>\n",
       "      <td>2</td>\n",
       "      <td>Ithergue48</td>\n",
       "      <td>24</td>\n",
       "      <td>Male</td>\n",
       "      <td>92</td>\n",
       "      <td>Final Critic</td>\n",
       "      <td>4.88</td>\n",
       "    </tr>\n",
       "    <tr>\n",
       "      <th>3</th>\n",
       "      <td>3</td>\n",
       "      <td>Chamassasya86</td>\n",
       "      <td>24</td>\n",
       "      <td>Male</td>\n",
       "      <td>100</td>\n",
       "      <td>Blindscythe</td>\n",
       "      <td>3.27</td>\n",
       "    </tr>\n",
       "    <tr>\n",
       "      <th>4</th>\n",
       "      <td>4</td>\n",
       "      <td>Iskosia90</td>\n",
       "      <td>23</td>\n",
       "      <td>Male</td>\n",
       "      <td>131</td>\n",
       "      <td>Fury</td>\n",
       "      <td>1.44</td>\n",
       "    </tr>\n",
       "  </tbody>\n",
       "</table>\n",
       "</div>"
      ],
      "text/plain": [
       "   Purchase ID             SN  Age Gender  Item ID  \\\n",
       "0            0        Lisim78   20   Male      108   \n",
       "1            1    Lisovynya38   40   Male      143   \n",
       "2            2     Ithergue48   24   Male       92   \n",
       "3            3  Chamassasya86   24   Male      100   \n",
       "4            4      Iskosia90   23   Male      131   \n",
       "\n",
       "                                   Item Name  Price  \n",
       "0  Extraction, Quickblade Of Trembling Hands   3.53  \n",
       "1                          Frenzied Scimitar   1.56  \n",
       "2                               Final Critic   4.88  \n",
       "3                                Blindscythe   3.27  \n",
       "4                                       Fury   1.44  "
      ]
     },
     "execution_count": 36,
     "metadata": {},
     "output_type": "execute_result"
    }
   ],
   "source": [
    "# Dependencies and Setup\n",
    "import matplotlib.pyplot as plt\n",
    "import pandas as pd\n",
    "\n",
    "# File to Load (Remember to Change These)\n",
    "file_to_load = \"Resources/purchase_data.csv\"\n",
    "\n",
    "# Read Purchasing File and store into Pandas data frame\n",
    "purchase_data = pd.read_csv(file_to_load)\n",
    "purchase_data.head()"
   ]
  },
  {
   "cell_type": "markdown",
   "metadata": {},
   "source": [
    "## Player Count"
   ]
  },
  {
   "cell_type": "markdown",
   "metadata": {},
   "source": [
    "* Display the total number of players\n"
   ]
  },
  {
   "cell_type": "code",
   "execution_count": 38,
   "metadata": {},
   "outputs": [
    {
     "name": "stdout",
     "output_type": "stream",
     "text": [
      "Players: =  576\n"
     ]
    }
   ],
   "source": [
    "player_count_df = purchase_data[\"SN\"].nunique()\n",
    "\n",
    "print('Players: = ',player_count_df)\n"
   ]
  },
  {
   "cell_type": "markdown",
   "metadata": {},
   "source": [
    "## Purchasing Analysis (Total)"
   ]
  },
  {
   "cell_type": "markdown",
   "metadata": {},
   "source": [
    "* Run basic calculations to obtain number of unique items, average price, etc.\n",
    "\n",
    "\n",
    "* Create a summary data frame to hold the results\n",
    "\n",
    "\n",
    "* Optional: give the displayed data cleaner formatting\n",
    "\n",
    "\n",
    "* Display the summary data frame\n"
   ]
  },
  {
   "cell_type": "code",
   "execution_count": 39,
   "metadata": {
    "scrolled": true
   },
   "outputs": [
    {
     "name": "stdout",
     "output_type": "stream",
     "text": [
      "unique items for purchase  179\n"
     ]
    },
    {
     "data": {
      "text/html": [
       "<div>\n",
       "<style scoped>\n",
       "    .dataframe tbody tr th:only-of-type {\n",
       "        vertical-align: middle;\n",
       "    }\n",
       "\n",
       "    .dataframe tbody tr th {\n",
       "        vertical-align: top;\n",
       "    }\n",
       "\n",
       "    .dataframe thead th {\n",
       "        text-align: right;\n",
       "    }\n",
       "</style>\n",
       "<table border=\"1\" class=\"dataframe\">\n",
       "  <thead>\n",
       "    <tr style=\"text-align: right;\">\n",
       "      <th></th>\n",
       "      <th>Purchase ID</th>\n",
       "      <th>SN</th>\n",
       "      <th>Age</th>\n",
       "      <th>Gender</th>\n",
       "      <th>Item ID</th>\n",
       "      <th>Item Name</th>\n",
       "      <th>Price</th>\n",
       "    </tr>\n",
       "  </thead>\n",
       "  <tbody>\n",
       "    <tr>\n",
       "      <th>1</th>\n",
       "      <td>1</td>\n",
       "      <td>Lisovynya38</td>\n",
       "      <td>40</td>\n",
       "      <td>Male</td>\n",
       "      <td>143</td>\n",
       "      <td>Frenzied Scimitar</td>\n",
       "      <td>1.56</td>\n",
       "    </tr>\n",
       "    <tr>\n",
       "      <th>2</th>\n",
       "      <td>2</td>\n",
       "      <td>Ithergue48</td>\n",
       "      <td>24</td>\n",
       "      <td>Male</td>\n",
       "      <td>92</td>\n",
       "      <td>Final Critic</td>\n",
       "      <td>4.88</td>\n",
       "    </tr>\n",
       "    <tr>\n",
       "      <th>3</th>\n",
       "      <td>3</td>\n",
       "      <td>Chamassasya86</td>\n",
       "      <td>24</td>\n",
       "      <td>Male</td>\n",
       "      <td>100</td>\n",
       "      <td>Blindscythe</td>\n",
       "      <td>3.27</td>\n",
       "    </tr>\n",
       "    <tr>\n",
       "      <th>4</th>\n",
       "      <td>4</td>\n",
       "      <td>Iskosia90</td>\n",
       "      <td>23</td>\n",
       "      <td>Male</td>\n",
       "      <td>131</td>\n",
       "      <td>Fury</td>\n",
       "      <td>1.44</td>\n",
       "    </tr>\n",
       "    <tr>\n",
       "      <th>6</th>\n",
       "      <td>6</td>\n",
       "      <td>Itheria73</td>\n",
       "      <td>36</td>\n",
       "      <td>Male</td>\n",
       "      <td>169</td>\n",
       "      <td>Interrogator, Blood Blade of the Queen</td>\n",
       "      <td>2.18</td>\n",
       "    </tr>\n",
       "  </tbody>\n",
       "</table>\n",
       "</div>"
      ],
      "text/plain": [
       "   Purchase ID             SN  Age Gender  Item ID  \\\n",
       "1            1    Lisovynya38   40   Male      143   \n",
       "2            2     Ithergue48   24   Male       92   \n",
       "3            3  Chamassasya86   24   Male      100   \n",
       "4            4      Iskosia90   23   Male      131   \n",
       "6            6      Itheria73   36   Male      169   \n",
       "\n",
       "                                Item Name  Price  \n",
       "1                       Frenzied Scimitar   1.56  \n",
       "2                            Final Critic   4.88  \n",
       "3                             Blindscythe   3.27  \n",
       "4                                    Fury   1.44  \n",
       "6  Interrogator, Blood Blade of the Queen   2.18  "
      ]
     },
     "execution_count": 39,
     "metadata": {},
     "output_type": "execute_result"
    }
   ],
   "source": [
    "#to determine gender ratio, make dataframe unique SN (multiple purchases per person possible) \n",
    "df_sn = purchase_data.drop_duplicates(['SN'],keep= 'last')\n",
    "\n",
    "#Ask is for unique items available\n",
    "unique_items_df = purchase_data[\"Item ID\"].nunique()\n",
    "print('unique items for purchase ' ,unique_items_df)\n",
    "#Compute basic statistics; mean price, total revenue,summarize \n",
    "avg_price_df = round(purchase_data[\"Price\"].mean(),2)\n",
    "avg_price_df\n",
    "ttl_revenue_df = round(purchase_data[\"Price\"].sum(),2)\n",
    "ttl_revenue_df\n",
    "\n",
    "summary_df = pd.DataFrame({\"Players\": [player_count_df],\n",
    "                                   \"Avg Price\": [avg_price_df],\n",
    "                                   \"$ Revenue\": [ttl_revenue_df],})\n",
    "summary_df.head()\n",
    "df_sn.head()\n"
   ]
  },
  {
   "cell_type": "markdown",
   "metadata": {},
   "source": [
    "## Gender Demographics"
   ]
  },
  {
   "cell_type": "markdown",
   "metadata": {},
   "source": [
    "* Percentage and Count of Male Players\n",
    "\n",
    "\n",
    "* Percentage and Count of Female Players\n",
    "\n",
    "\n",
    "* Percentage and Count of Other / Non-Disclosed\n",
    "\n",
    "\n"
   ]
  },
  {
   "cell_type": "code",
   "execution_count": 43,
   "metadata": {},
   "outputs": [
    {
     "name": "stdout",
     "output_type": "stream",
     "text": [
      " Total: 576\n",
      " Male: 484\n",
      " Female: 81\n",
      " non_specfic: 11\n",
      " % Male: 84.03\n",
      " % Female: 14.06\n",
      " % non_specifc: 1.91\n",
      "Gender\n",
      "Female                   3.203009\n",
      "Male                     3.017853\n",
      "Other / Non-Disclosed    3.346000\n",
      "Name: Price, dtype: float64\n",
      "Gender\n",
      "Female                    361.94\n",
      "Male                     1967.64\n",
      "Other / Non-Disclosed      50.19\n",
      "Name: Price, dtype: float64\n"
     ]
    }
   ],
   "source": [
    "total_gender = df_sn[\"Gender\"].count()\n",
    "male = df_sn[\"Gender\"].value_counts()['Male']\n",
    "female = df_sn[\"Gender\"].value_counts()['Female']\n",
    "non_gender_specific = total_gender - male - female\n",
    "print(f\" Total: {total_gender}\\n Male: {male}\\n Female: {female}\\n non_specfic: {non_gender_specific}\")\n",
    "\n",
    "#Gender Percents\n",
    "male_pct = round((male/total_gender) * 100,2)\n",
    "female_pct = round((female/total_gender) * 100,2)\n",
    "non_gender_specific_pct = round((non_gender_specific/total_gender) * 100,2)\n",
    "print(f\" % Male: {male_pct}\\n % Female: {female_pct}\\n % non_specifc: {non_gender_specific_pct}\")\n",
    "purchase_count = purchase_data[\"Price\"].count()\n",
    "group_gender_df = purchase_data.groupby(\"Gender\")\n",
    "group_person_df = purchase_data.groupby(\"SN\")\n",
    "group_gender_df.head()\n",
    "group_gender_avg_price_df = group_gender_df[\"Price\"].mean()\n",
    "group_gender_purchase_total = group_gender_df[\"Price\"].sum()\n",
    "group_gender_purchase_count = group_gender_df[\"Price\"].count()\n",
    "print(group_gender_avg_price_df)\n",
    "print(group_gender_purchase_total.head())"
   ]
  },
  {
   "cell_type": "code",
   "execution_count": 49,
   "metadata": {},
   "outputs": [
    {
     "data": {
      "text/plain": [
       "Text(0.5, 1.0, 'Proportion of Buyers by Gender ID')"
      ]
     },
     "execution_count": 49,
     "metadata": {},
     "output_type": "execute_result"
    },
    {
     "data": {
      "image/png": "[encoded data removed]",
      "text/plain": [
       "<Figure size 432x288 with 1 Axes>"
      ]
     },
     "metadata": {},
     "output_type": "display_data"
    }
   ],
   "source": [
    "#Extra - Bonus\n",
    "\n",
    "#pyplot pie\n",
    "# Labels for the sections of our pie chart\n",
    "labels = [\"Male\", \"Female\", \"Other\"]\n",
    "\n",
    "# The values of each section of the pie chart\n",
    "sizes = [male, female,non_gender_specific]\n",
    "\n",
    "# The colors of each section of the pie chart\n",
    "colors = [\"cyan\", \"pink\", \"green\"]\n",
    "\n",
    "# Tells matplotlib to seperate the \"Humans\" section from the others\n",
    "explode = (0.1, 0,0)\n",
    "           \n",
    "plt.pie(sizes, explode=explode, labels=labels, colors=colors,\n",
    "        autopct=\"%1.1f%%\", shadow=True, startangle=140) \n",
    "\n",
    "plt.title(\"Proportion of Buyers by Gender ID\")"
   ]
  },
  {
   "cell_type": "markdown",
   "metadata": {},
   "source": [
    "\n",
    "## Purchasing Analysis (Gender)"
   ]
  },
  {
   "cell_type": "code",
   "execution_count": 48,
   "metadata": {},
   "outputs": [
    {
     "data": {
      "text/plain": [
       "Text(0.5, 1.0, 'Purchase Dollars by Gender')"
      ]
     },
     "execution_count": 48,
     "metadata": {},
     "output_type": "execute_result"
    },
    {
     "data": {
      "image/png": "[encoded data removed]",
      "text/plain": [
       "<Figure size 432x288 with 1 Axes>"
      ]
     },
     "metadata": {
      "needs_background": "light"
     },
     "output_type": "display_data"
    }
   ],
   "source": [
    "group_gender_purchase_total.plot.bar()\n",
    "plt.xlabel('Gender')\n",
    "plt.ylabel(\"Purchase $\")\n",
    "plt.title(\"Purchase Dollars by Gender\")"
   ]
  },
  {
   "cell_type": "markdown",
   "metadata": {},
   "source": [
    "* Run basic calculations to obtain purchase count, avg. purchase price, avg. purchase total per person etc. by gender\n",
    "\n",
    "\n",
    "\n",
    "\n",
    "* Create a summary data frame to hold the results\n",
    "\n",
    "\n",
    "* Optional: give the displayed data cleaner formatting\n",
    "\n",
    "\n",
    "* Display the summary data frame"
   ]
  },
  {
   "cell_type": "code",
   "execution_count": 5,
   "metadata": {},
   "outputs": [
    {
     "name": "stdout",
     "output_type": "stream",
     "text": [
      "                      Avg Price Purchased total($)  #Purchases\n",
      "Gender                                                        \n",
      "Female                    $3.20            $361.94         113\n",
      "Male                      $3.02          $1,967.64         652\n",
      "Other / Non-Disclosed     $3.35             $50.19          15\n"
     ]
    }
   ],
   "source": [
    "merge_df = pd.merge(group_gender_avg_price_df, group_gender_purchase_total, on=\"Gender\")\n",
    "merge_df=pd.merge(merge_df,group_gender_purchase_count,on=\"Gender\")\n",
    "merge_df = merge_df.rename(columns={\"Price_x\":\"Avg Price\",\"Price_y\":\"Purchased total($)\",\"Price\":\"#Purchases\"})\n",
    "merge_df[\"Avg Price\"] = merge_df[\"Avg Price\"].map(\"${0:,.2f}\".format)\n",
    "merge_df[\"Purchased total($)\"]=merge_df[\"Purchased total($)\"].map(\"${0:,.2f}\".format)\n",
    "print(merge_df.head())"
   ]
  },
  {
   "cell_type": "markdown",
   "metadata": {},
   "source": [
    "## Age Demographics"
   ]
  },
  {
   "cell_type": "markdown",
   "metadata": {},
   "source": [
    "* Establish bins for ages\n",
    "\n",
    "\n",
    "* Categorize the existing players using the age bins. Hint: use pd.cut()\n",
    "\n",
    "\n",
    "* Calculate the numbers and percentages by age group\n",
    "\n",
    "\n",
    "* Create a summary data frame to hold the results\n",
    "\n",
    "\n",
    "* Optional: round the percentage column to two decimal points\n",
    "\n",
    "\n",
    "* Display Age Demographics Table\n"
   ]
  },
  {
   "cell_type": "code",
   "execution_count": 92,
   "metadata": {},
   "outputs": [
    {
     "name": "stdout",
     "output_type": "stream",
     "text": [
      "           Purchases Purchased total($)  Individuals per_person_avg percent  \\\n",
      "Age Group                                                                     \n",
      "<10               23             $77.13           17          $4.54   3.24%   \n",
      "10-14             28             $82.78           22          $3.76   3.48%   \n",
      "15-19            136            $412.89          107          $3.86  17.35%   \n",
      "20-24            365          $1,114.06          258          $4.32  46.81%   \n",
      "25-29            101            $293.00           77          $3.81  12.31%   \n",
      "\n",
      "          Avg Price  \n",
      "Age Group            \n",
      "<10           $3.35  \n",
      "10-14         $2.96  \n",
      "15-19         $3.04  \n",
      "20-24         $3.05  \n",
      "25-29         $2.90  \n"
     ]
    },
    {
     "data": {
      "text/plain": [
       "Text(0.5, 1.0, 'Age Group % Purchase Dollars')"
      ]
     },
     "execution_count": 92,
     "metadata": {},
     "output_type": "execute_result"
    },
    {
     "data": {
      "image/png": "[encoded data removed]",
      "text/plain": [
       "<Figure size 432x288 with 1 Axes>"
      ]
     },
     "metadata": {
      "needs_background": "light"
     },
     "output_type": "display_data"
    }
   ],
   "source": [
    "#set up bins and labels\n",
    "bins = [0, 9, 14, 19, 24, 29,34,39,90]\n",
    "bin_labels=[\"<10\",\"10-14\",\"15-19\",\"20-24\",\"25-29\",\"30-34\",\"35-39\",\"40+\"]\n",
    "\n",
    "#create a new dataframe\n",
    "age_group_df = purchase_data\n",
    "age_group_df[\"Age Group\"] = pd.cut(age_group_df[\"Age\"], bins, labels=bin_labels)\n",
    "#age_group_df=age_group_df[\"Age Group\"] = pd.cut(purchase_data[\"Age\"], bins, labels=bin_labels, include_lowest=True)\n",
    "\n",
    "#do calculations\n",
    "age_group_df = age_group_df.groupby(\"Age Group\")\n",
    "age_group_df_age = age_group_df[\"Age\"].count()\n",
    "age_group_df_person = age_group_df[\"SN\"].nunique()\n",
    "age_group_df_buy = age_group_df[\"Price\"].sum()\n",
    "age_group_df_avg = age_group_df[\"Price\"].mean()\n",
    "age_group_person_avg = age_group_df_buy / age_group_df_person\n",
    "age_group_summary = pd.merge(age_group_df_age, age_group_df_buy, on=\"Age Group\")\n",
    "age_group_person = pd.merge(age_group_df_buy, age_group_df_person, on=\"Age Group\")\n",
    "\n",
    "age_group_t = pd.merge(age_group_summary, age_group_df_person, on=\"Age Group\")\n",
    "age_group_t = age_group_t.rename(columns={\"Age\":\"Purchases\",\"Price\":\"Purchased total($)\",\"SN\":\"Individuals\"})\n",
    "age_group_t['per_person_avg'] = age_group_df_buy / age_group_df_person\n",
    "age_group_t['percent']= round(100*age_group_df_buy / ttl_revenue_df,2)\n",
    "\n",
    "age_group_t['Avg Price'] = age_group_df_buy / age_group_df_age\n",
    "age_group_t[\"per_person_avg\"] = age_group_t[\"per_person_avg\"].map(\"${0:,.2f}\".format)\n",
    "age_group_t[\"Purchased total($)\"]=age_group_t[\"Purchased total($)\"].map(\"${0:,.2f}\".format)\n",
    "age_group_t[\"Avg Price\"]=age_group_t[\"Avg Price\"].map(\"${0:,.2f}\".format)\n",
    "dfpct = age_group_t[\"percent\"]\n",
    "age_group_t[\"percent\"]=age_group_t[\"percent\"].map(\"{0:,.2f}%\".format)\n",
    "\n",
    "#Extra -- bar chart age group with persons and purchases\n",
    "print(age_group_t.head())\n",
    "dfpct.plot.bar()\n",
    "plt.xlabel('Age Group')\n",
    "plt.title(\"Age Group % Purchase Dollars\")"
   ]
  },
  {
   "cell_type": "markdown",
   "metadata": {},
   "source": [
    "## Purchasing Analysis (Age)"
   ]
  },
  {
   "cell_type": "markdown",
   "metadata": {},
   "source": [
    "* Bin the purchase_data data frame by age\n",
    "\n",
    "\n",
    "* Run basic calculations to obtain purchase count, avg. purchase price, avg. purchase total per person etc. in the table below\n",
    "\n",
    "\n",
    "* Create a summary data frame to hold the results\n",
    "\n",
    "\n",
    "* Optional: give the displayed data cleaner formatting\n",
    "\n",
    "\n",
    "* Display the summary data frame"
   ]
  },
  {
   "cell_type": "code",
   "execution_count": null,
   "metadata": {},
   "outputs": [],
   "source": []
  },
  {
   "cell_type": "markdown",
   "metadata": {},
   "source": [
    "## Top Spenders"
   ]
  },
  {
   "cell_type": "markdown",
   "metadata": {},
   "source": [
    "* Run basic calculations to obtain the results in the table below\n",
    "\n",
    "\n",
    "* Create a summary data frame to hold the results\n",
    "\n",
    "\n",
    "* Sort the total purchase value column in descending order\n",
    "\n",
    "\n",
    "* Optional: give the displayed data cleaner formatting\n",
    "\n",
    "\n",
    "* Display a preview of the summary data frame\n",
    "\n"
   ]
  },
  {
   "cell_type": "code",
   "execution_count": 9,
   "metadata": {},
   "outputs": [
    {
     "data": {
      "text/html": [
       "<div>\n",
       "<style scoped>\n",
       "    .dataframe tbody tr th:only-of-type {\n",
       "        vertical-align: middle;\n",
       "    }\n",
       "\n",
       "    .dataframe tbody tr th {\n",
       "        vertical-align: top;\n",
       "    }\n",
       "\n",
       "    .dataframe thead th {\n",
       "        text-align: right;\n",
       "    }\n",
       "</style>\n",
       "<table border=\"1\" class=\"dataframe\">\n",
       "  <thead>\n",
       "    <tr style=\"text-align: right;\">\n",
       "      <th></th>\n",
       "      <th>Purchases</th>\n",
       "      <th>Total Spend</th>\n",
       "      <th>Avg Spend</th>\n",
       "    </tr>\n",
       "    <tr>\n",
       "      <th>SN</th>\n",
       "      <th></th>\n",
       "      <th></th>\n",
       "      <th></th>\n",
       "    </tr>\n",
       "  </thead>\n",
       "  <tbody>\n",
       "    <tr>\n",
       "      <th>Lisosia93</th>\n",
       "      <td>5</td>\n",
       "      <td>$18.96</td>\n",
       "      <td>$3.79</td>\n",
       "    </tr>\n",
       "    <tr>\n",
       "      <th>Idastidru52</th>\n",
       "      <td>4</td>\n",
       "      <td>$15.45</td>\n",
       "      <td>$3.86</td>\n",
       "    </tr>\n",
       "    <tr>\n",
       "      <th>Chamjask73</th>\n",
       "      <td>3</td>\n",
       "      <td>$13.83</td>\n",
       "      <td>$4.61</td>\n",
       "    </tr>\n",
       "    <tr>\n",
       "      <th>Iral74</th>\n",
       "      <td>4</td>\n",
       "      <td>$13.62</td>\n",
       "      <td>$3.40</td>\n",
       "    </tr>\n",
       "    <tr>\n",
       "      <th>Iskadarya95</th>\n",
       "      <td>3</td>\n",
       "      <td>$13.10</td>\n",
       "      <td>$4.37</td>\n",
       "    </tr>\n",
       "  </tbody>\n",
       "</table>\n",
       "</div>"
      ],
      "text/plain": [
       "             Purchases Total Spend Avg Spend\n",
       "SN                                          \n",
       "Lisosia93            5      $18.96     $3.79\n",
       "Idastidru52          4      $15.45     $3.86\n",
       "Chamjask73           3      $13.83     $4.61\n",
       "Iral74               4      $13.62     $3.40\n",
       "Iskadarya95          3      $13.10     $4.37"
      ]
     },
     "execution_count": 9,
     "metadata": {},
     "output_type": "execute_result"
    }
   ],
   "source": [
    "#Top Spenders\n",
    "top_spend_df = purchase_data.groupby(\"SN\")\n",
    "\n",
    "ind_buys = top_spend_df[\"Item ID\"].count()\n",
    "ind_buys.head()\n",
    "ind_spend = top_spend_df[\"Price\"].sum()\n",
    "ind_spend.head()\n",
    "ind_spend_avg = ind_spend / ind_buys\n",
    "top_spend_summary = pd.merge(ind_buys, ind_spend, on=\"SN\")\n",
    "top_spend_summary['Avg_Spend'] = ind_spend_avg\n",
    "top_spend_summary.head()\n",
    "top_spend_summary_sort = top_spend_summary.sort_values(\"Price\", ascending=False)\n",
    "top_spend_summary_sort.head()\n",
    "mapping = {top_spend_summary_sort.columns[0]:'Purchases', top_spend_summary_sort.columns[1]: 'Total Spend', top_spend_summary_sort.columns[2]:'Avg Spend'}\n",
    "top_spend_summary_sort = top_spend_summary_sort.rename(columns=mapping)\n",
    "top_spend_summary_sort = top_spend_summary_sort.rename(columns=mapping)\n",
    "top_spend_summary_sort[\"Avg Spend\"]=top_spend_summary_sort[\"Avg Spend\"].map(\"${0:,.2f}\".format)\n",
    "top_spend_summary_sort[\"Total Spend\"]=top_spend_summary_sort[\"Total Spend\"].map(\"${0:,.2f}\".format)\n",
    "top_spend_summary_sort.head()"
   ]
  },
  {
   "cell_type": "markdown",
   "metadata": {},
   "source": [
    "## Most Popular Items"
   ]
  },
  {
   "cell_type": "markdown",
   "metadata": {},
   "source": [
    "* Retrieve the Item ID, Item Name, and Item Price columns\n",
    "\n",
    "\n",
    "* Group by Item ID and Item Name. Perform calculations to obtain purchase count, item price, and total purchase value\n",
    "\n",
    "\n",
    "* Create a summary data frame to hold the results\n",
    "\n",
    "\n",
    "* Sort the purchase count column in descending order\n",
    "\n",
    "\n",
    "* Optional: give the displayed data cleaner formatting\n",
    "\n",
    "\n",
    "* Display a preview of the summary data frame\n",
    "\n"
   ]
  },
  {
   "cell_type": "code",
   "execution_count": 50,
   "metadata": {},
   "outputs": [
    {
     "data": {
      "text/plain": [
       "Item Name\n",
       "Abyssal Shard                     13.35\n",
       "Aetherius, Boon of the Blessed    16.95\n",
       "Agatha                            18.48\n",
       "Alpha                              6.21\n",
       "Alpha, Oath of Zeal               12.15\n",
       "Name: Price, dtype: float64"
      ]
     },
     "execution_count": 50,
     "metadata": {},
     "output_type": "execute_result"
    }
   ],
   "source": [
    "#Most Popular\n",
    "most_pop_df = purchase_data.groupby(\"Item Name\")\n",
    "ind_buys = most_pop_df[\"Item ID\"].count()\n",
    "most_value_df = most_pop_df[\"Price\"].sum()\n",
    "item_price_df = most_pop_df[\"Price\"].mean()\n",
    "\n",
    "most_value_df.head()"
   ]
  },
  {
   "cell_type": "markdown",
   "metadata": {},
   "source": [
    "## Most Profitable Items"
   ]
  },
  {
   "cell_type": "markdown",
   "metadata": {},
   "source": [
    "* Sort the above table by total purchase value in descending order\n",
    "\n",
    "\n",
    "* Optional: give the displayed data cleaner formatting\n",
    "\n",
    "\n",
    "* Display a preview of the data frame\n",
    "\n"
   ]
  },
  {
   "cell_type": "code",
   "execution_count": 51,
   "metadata": {
    "scrolled": true
   },
   "outputs": [
    {
     "data": {
      "text/html": [
       "<div>\n",
       "<style scoped>\n",
       "    .dataframe tbody tr th:only-of-type {\n",
       "        vertical-align: middle;\n",
       "    }\n",
       "\n",
       "    .dataframe tbody tr th {\n",
       "        vertical-align: top;\n",
       "    }\n",
       "\n",
       "    .dataframe thead th {\n",
       "        text-align: right;\n",
       "    }\n",
       "</style>\n",
       "<table border=\"1\" class=\"dataframe\">\n",
       "  <thead>\n",
       "    <tr style=\"text-align: right;\">\n",
       "      <th></th>\n",
       "      <th>Total_Purchases</th>\n",
       "      <th>Item Price</th>\n",
       "      <th>Purchase_value</th>\n",
       "    </tr>\n",
       "    <tr>\n",
       "      <th>Item Name</th>\n",
       "      <th></th>\n",
       "      <th></th>\n",
       "      <th></th>\n",
       "    </tr>\n",
       "  </thead>\n",
       "  <tbody>\n",
       "    <tr>\n",
       "      <th>Final Critic</th>\n",
       "      <td>13</td>\n",
       "      <td>$4.61</td>\n",
       "      <td>$59.99</td>\n",
       "    </tr>\n",
       "    <tr>\n",
       "      <th>Oathbreaker, Last Hope of the Breaking Storm</th>\n",
       "      <td>12</td>\n",
       "      <td>$4.23</td>\n",
       "      <td>$50.76</td>\n",
       "    </tr>\n",
       "    <tr>\n",
       "      <th>Nirvana</th>\n",
       "      <td>9</td>\n",
       "      <td>$4.90</td>\n",
       "      <td>$44.10</td>\n",
       "    </tr>\n",
       "    <tr>\n",
       "      <th>Fiery Glass Crusader</th>\n",
       "      <td>9</td>\n",
       "      <td>$4.58</td>\n",
       "      <td>$41.22</td>\n",
       "    </tr>\n",
       "    <tr>\n",
       "      <th>Singed Scalpel</th>\n",
       "      <td>8</td>\n",
       "      <td>$4.35</td>\n",
       "      <td>$34.80</td>\n",
       "    </tr>\n",
       "    <tr>\n",
       "      <th>...</th>\n",
       "      <td>...</td>\n",
       "      <td>...</td>\n",
       "      <td>...</td>\n",
       "    </tr>\n",
       "    <tr>\n",
       "      <th>Flux, Destroyer of Due Diligence</th>\n",
       "      <td>2</td>\n",
       "      <td>$1.06</td>\n",
       "      <td>$2.12</td>\n",
       "    </tr>\n",
       "    <tr>\n",
       "      <th>Whistling Mithril Warblade</th>\n",
       "      <td>2</td>\n",
       "      <td>$1.00</td>\n",
       "      <td>$2.00</td>\n",
       "    </tr>\n",
       "    <tr>\n",
       "      <th>Exiled Mithril Longsword</th>\n",
       "      <td>1</td>\n",
       "      <td>$2.00</td>\n",
       "      <td>$2.00</td>\n",
       "    </tr>\n",
       "    <tr>\n",
       "      <th>Gladiator's Glaive</th>\n",
       "      <td>1</td>\n",
       "      <td>$1.93</td>\n",
       "      <td>$1.93</td>\n",
       "    </tr>\n",
       "    <tr>\n",
       "      <th>The Decapitator</th>\n",
       "      <td>1</td>\n",
       "      <td>$1.75</td>\n",
       "      <td>$1.75</td>\n",
       "    </tr>\n",
       "  </tbody>\n",
       "</table>\n",
       "<p>179 rows × 3 columns</p>\n",
       "</div>"
      ],
      "text/plain": [
       "                                              Total_Purchases Item Price  \\\n",
       "Item Name                                                                  \n",
       "Final Critic                                               13      $4.61   \n",
       "Oathbreaker, Last Hope of the Breaking Storm               12      $4.23   \n",
       "Nirvana                                                     9      $4.90   \n",
       "Fiery Glass Crusader                                        9      $4.58   \n",
       "Singed Scalpel                                              8      $4.35   \n",
       "...                                                       ...        ...   \n",
       "Flux, Destroyer of Due Diligence                            2      $1.06   \n",
       "Whistling Mithril Warblade                                  2      $1.00   \n",
       "Exiled Mithril Longsword                                    1      $2.00   \n",
       "Gladiator's Glaive                                          1      $1.93   \n",
       "The Decapitator                                             1      $1.75   \n",
       "\n",
       "                                             Purchase_value  \n",
       "Item Name                                                    \n",
       "Final Critic                                         $59.99  \n",
       "Oathbreaker, Last Hope of the Breaking Storm         $50.76  \n",
       "Nirvana                                              $44.10  \n",
       "Fiery Glass Crusader                                 $41.22  \n",
       "Singed Scalpel                                       $34.80  \n",
       "...                                                     ...  \n",
       "Flux, Destroyer of Due Diligence                      $2.12  \n",
       "Whistling Mithril Warblade                            $2.00  \n",
       "Exiled Mithril Longsword                              $2.00  \n",
       "Gladiator's Glaive                                    $1.93  \n",
       "The Decapitator                                       $1.75  \n",
       "\n",
       "[179 rows x 3 columns]"
      ]
     },
     "execution_count": 51,
     "metadata": {},
     "output_type": "execute_result"
    }
   ],
   "source": [
    "#Most Popular\n",
    "top_profit_df = pd.merge(most_value_df, ind_buys, on=\"Item Name\")\n",
    "top_profit_df['Item Price'] = item_price_df\n",
    "top_profit_sort = top_profit_df.sort_values(\"Price\", ascending=False)\n",
    "mapping = {top_profit_sort.columns[0]:'Purchase_value', top_profit_sort.columns[1]: 'Total_Purchases'}\n",
    "top_profit_sort = top_profit_sort.rename(columns=mapping)\n",
    "dfpx = top_profit_sort\n",
    "top_profit_sort['Purchase_value']=top_profit_sort[\"Purchase_value\"].map(\"${0:,.2f}\".format)\n",
    "top_profit_sort[\"Item Price\"]=top_profit_sort[\"Item Price\"].map(\"${0:,.2f}\".format)\n",
    "top_profit_sort = top_profit_sort[['Total_Purchases', 'Item Price','Purchase_value']]\n",
    "top_profit_sort"
   ]
  },
  {
   "cell_type": "code",
   "execution_count": 52,
   "metadata": {},
   "outputs": [
    {
     "data": {
      "text/plain": [
       "<matplotlib.axes._subplots.AxesSubplot at 0x21d08bcf648>"
      ]
     },
     "execution_count": 52,
     "metadata": {},
     "output_type": "execute_result"
    },
    {
     "data": {
      "image/png": "[encoded data removed]",
      "text/plain": [
       "<Figure size 432x288 with 1 Axes>"
      ]
     },
     "metadata": {
      "needs_background": "light"
     },
     "output_type": "display_data"
    }
   ],
   "source": [
    "#Extra (Bonus) Points\n",
    "# Dependencies\n",
    "import numpy as np\n",
    "import matplotlib.pyplot as plt\n",
    "# reduce dataframe\n",
    "df = top_profit_sort\n",
    "%matplotlib inline\n",
    "df = df.head(5)\n",
    "dfp = df['Purchase_value'].apply(lambda x: float(x.replace('$',' ')))\n",
    "dfp = dfp.head(5)\n",
    "#show a bar chart of the most profitable\n",
    "#df.plot.bar()\n",
    "plt.title(\"Sales by Game\")\n",
    "dfp.plot.bar()"
   ]
  },
  {
   "cell_type": "code",
   "execution_count": null,
   "metadata": {},
   "outputs": [],
   "source": []
  },
  {
   "cell_type": "code",
   "execution_count": null,
   "metadata": {},
   "outputs": [],
   "source": []
  }
 ],
 "metadata": {
  "anaconda-cloud": {},
  "kernel_info": {
   "name": "python3"
  },
  "kernelspec": {
   "display_name": "Python 3",
   "language": "python",
   "name": "python3"
  },
  "language_info": {
   "codemirror_mode": {
    "name": "ipython",
    "version": 3
   },
   "file_extension": ".py",
   "mimetype": "text/x-python",
   "name": "python",
   "nbconvert_exporter": "python",
   "pygments_lexer": "ipython3",
   "version": "3.8.2"
  },
  "latex_envs": {
   "LaTeX_envs_menu_present": true,
   "autoclose": false,
   "autocomplete": true,
   "bibliofile": "biblio.bib",
   "cite_by": "apalike",
   "current_citInitial": 1,
   "eqLabelWithNumbers": true,
   "eqNumInitial": 1,
   "hotkeys": {
    "equation": "Ctrl-E",
    "itemize": "Ctrl-I"
   },
   "labels_anchors": false,
   "latex_user_defs": false,
   "report_style_numbering": false,
   "user_envs_cfg": false
  },
  "nteract": {
   "version": "0.2.0"
  }
 },
 "nbformat": 4,
 "nbformat_minor": 2
}
